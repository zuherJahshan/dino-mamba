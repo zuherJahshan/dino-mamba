{
 "cells": [
  {
   "cell_type": "code",
   "execution_count": 16,
   "metadata": {},
   "outputs": [],
   "source": [
    "import os \n",
    "\n",
    "# os.environ[\"CUDA_VISIBLE_DEVICES\"] = \"-1\"\n",
    "\n",
    "import torch\n",
    "from mamba_ssm import Mamba\n",
    "\n",
    "# how to make the cuda "
   ]
  },
  {
   "cell_type": "code",
   "execution_count": 17,
   "metadata": {},
   "outputs": [],
   "source": [
    "device = \"cuda\" if torch.cuda.is_available() else \"cpu\""
   ]
  },
  {
   "cell_type": "code",
   "execution_count": 18,
   "metadata": {},
   "outputs": [],
   "source": [
    "d_model = 256\n",
    "d_state = 64\n",
    "import torch.nn as nn\n",
    "\n",
    "class DeepMamba(nn.Module):\n",
    "    def __init__(\n",
    "        self\n",
    "        cfg\n",
    "    ):\n",
    "        super(DeepMamba, self).__init__()\n",
    "        self.mamba_layers = nn.ModuleList([\n",
    "            Mamba(\n",
    "                d_model=d_model,\n",
    "                d_state=d_state,\n",
    "                d_conv=4,\n",
    "                expand=2\n",
    "        ) for _ in range(num_layers)])\n",
    "        self.lns = nn.ModuleList([\n",
    "            nn.LayerNorm(d_model) for _ in range(num_layers)\n",
    "        ])\n",
    "\n",
    "    def forward(self, x):\n",
    "        layer_results = []\n",
    "        for mamba, ln in zip(self.mamba_layers, self.lns):\n",
    "            x = mamba(ln(x))\n",
    "            layer_results.append(([], [], rearrange(x, 'b t d -> t b d')))\n",
    "        return rearrange(x, 'b t d -> t b d'), layer_results"
   ]
  },
  {
   "cell_type": "code",
   "execution_count": 19,
   "metadata": {},
   "outputs": [],
   "source": [
    "model = DeepMamba().to(device)\n",
    "\n",
    "B, T, d = 3, 2000, 256\n",
    "x = torch.randn(B, T, d).to(device)\n",
    "y = model(x)"
   ]
  },
  {
   "cell_type": "code",
   "execution_count": 21,
   "metadata": {},
   "outputs": [
    {
     "data": {
      "text/plain": [
       "4"
      ]
     },
     "execution_count": 21,
     "metadata": {},
     "output_type": "execute_result"
    }
   ],
   "source": [
    "len(y[1])"
   ]
  },
  {
   "cell_type": "code",
   "execution_count": null,
   "metadata": {},
   "outputs": [],
   "source": []
  }
 ],
 "metadata": {
  "kernelspec": {
   "display_name": "base",
   "language": "python",
   "name": "python3"
  },
  "language_info": {
   "codemirror_mode": {
    "name": "ipython",
    "version": 3
   },
   "file_extension": ".py",
   "mimetype": "text/x-python",
   "name": "python",
   "nbconvert_exporter": "python",
   "pygments_lexer": "ipython3",
   "version": "3.10.13"
  }
 },
 "nbformat": 4,
 "nbformat_minor": 2
}
