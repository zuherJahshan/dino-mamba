{
 "cells": [
  {
   "cell_type": "code",
   "execution_count": 1,
   "metadata": {},
   "outputs": [
    {
     "name": "stderr",
     "output_type": "stream",
     "text": [
      "/opt/conda/lib/python3.10/site-packages/tqdm/auto.py:21: TqdmWarning: IProgress not found. Please update jupyter and ipywidgets. See https://ipywidgets.readthedocs.io/en/stable/user_install.html\n",
      "  from .autonotebook import tqdm as notebook_tqdm\n"
     ]
    }
   ],
   "source": [
    "from model_persistant_state import ModelPersistantState\n",
    "from dataset import get_dataloader\n",
    "import torch\n",
    "import numpy as np"
   ]
  },
  {
   "cell_type": "code",
   "execution_count": 2,
   "metadata": {},
   "outputs": [],
   "source": [
    "# 1. load a model\n",
    "model_path = \"models/mamba2\"\n",
    "results_path = \"results/abx/\"\n",
    "model_persistant_state = ModelPersistantState(model_path)"
   ]
  },
  {
   "cell_type": "code",
   "execution_count": 3,
   "metadata": {},
   "outputs": [],
   "source": [
    "model = model_persistant_state.load_model()"
   ]
  },
  {
   "cell_type": "code",
   "execution_count": 4,
   "metadata": {},
   "outputs": [],
   "source": [
    "# 2. load a dataset\n",
    "dataloader = get_dataloader(20, data_type=\"abx\")"
   ]
  },
  {
   "cell_type": "code",
   "execution_count": 5,
   "metadata": {},
   "outputs": [],
   "source": [
    "for idx, (waveforms, lens, path) in enumerate(dataloader):\n",
    "    model.eval()\n",
    "    with torch.no_grad():\n",
    "        result = model(waveforms, lens, only_student=True)\n",
    "        result = result[\"student\"]\n",
    "    paths = [results_path + \".\".join(\"/\".join(p.split(\"/\")[-2:]).split(\".\")[:-1]) + \".npy\" for p in path]\n",
    "    for batch_idx, path in enumerate(paths):\n",
    "        with open(path, \"w\"):\n",
    "            # write tensor to the npy file in numpy format\n",
    "            result_to_save = result[batch_idx].cpu().numpy()\n",
    "            # transform to float64\n",
    "            result_to_save = result_to_save.astype(np.float64)[:lens[batch_idx]]\n",
    "            np.save(path, result_to_save)\n",
    "            # torch.save(result[i], path)\n",
    "    # print the progress in precentage\n",
    "    print(f\"\\r{idx}/{len(dataloader)}\", end=\"\")"
   ]
  },
  {
   "cell_type": "code",
   "execution_count": null,
   "metadata": {},
   "outputs": [],
   "source": []
  }
 ],
 "metadata": {
  "kernelspec": {
   "display_name": "base",
   "language": "python",
   "name": "python3"
  },
  "language_info": {
   "codemirror_mode": {
    "name": "ipython",
    "version": 3
   },
   "file_extension": ".py",
   "mimetype": "text/x-python",
   "name": "python",
   "nbconvert_exporter": "python",
   "pygments_lexer": "ipython3",
   "version": "3.10.13"
  }
 },
 "nbformat": 4,
 "nbformat_minor": 2
}
