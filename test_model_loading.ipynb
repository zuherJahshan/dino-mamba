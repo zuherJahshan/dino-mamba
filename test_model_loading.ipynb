{
 "cells": [
  {
   "cell_type": "code",
   "execution_count": null,
   "metadata": {},
   "outputs": [],
   "source": [
    "#build a DinoSR model, save it, load the model to a new instance and check if the models are the same\n",
    "from dinosr import DinoSR, model_creator\n",
    "from dinosr_config import DinosrAudioConfig\n",
    "from model_persistant_state import ModelPersistantState\n",
    "import yaml\n",
    "from dataset import get_dataloader\n",
    "import torch"
   ]
  },
  {
   "cell_type": "code",
   "execution_count": null,
   "metadata": {},
   "outputs": [],
   "source": [
    "model_path = \"models/dummy\"\n",
    "!rm -rf {model_path}\n",
    "mps = ModelPersistantState(model_path)"
   ]
  },
  {
   "cell_type": "code",
   "execution_count": null,
   "metadata": {},
   "outputs": [],
   "source": [
    "# load from config.yaml\n",
    "\n",
    "with open(\"config.yaml\", \"r\") as ymlfile:\n",
    "    cfg = yaml.safe_load(ymlfile)\n",
    "cfg = DinosrAudioConfig(\n",
    "    **cfg\n",
    ")\n",
    "model1 = DinoSR(cfg, model_creator)\n",
    "model1.to('cuda')\n",
    "\n",
    "dataloader = get_dataloader(10)\n",
    "\n",
    "optimizer = torch.optim.Adam(model1.parameters(), lr=0.001)\n",
    "\n",
    "# train the model for 10 epochs\n",
    "cnt = 0\n",
    "for waveforms, lengths in dataloader:\n",
    "    optimizer.zero_grad()\n",
    "    result = model1(waveforms, lengths)\n",
    "    loss = result[\"loss\"]\n",
    "    loss.backward()\n",
    "    optimizer.step()\n",
    "    cnt += 1\n",
    "    if cnt > 10:\n",
    "        break\n",
    "\n",
    "\n",
    "# save the model\n",
    "mps.save_model(\n",
    "    0,\n",
    "    model1,\n",
    "    {\n",
    "        \"accuracy\": 0.5,\n",
    "        \"loss\": 0.5\n",
    "    }\n",
    ")\n"
   ]
  },
  {
   "cell_type": "code",
   "execution_count": null,
   "metadata": {},
   "outputs": [],
   "source": [
    "model2 = mps.load_model().to('cuda')"
   ]
  },
  {
   "cell_type": "code",
   "execution_count": null,
   "metadata": {},
   "outputs": [],
   "source": [
    "# compare the two model's state dicts\n",
    "for (k1, v1), (k2, v2) in zip(model1.state_dict().items(), model2.state_dict().items()):\n",
    "    print(k1)\n",
    "    assert k1 == k2\n",
    "    assert v1.equal(v2)"
   ]
  },
  {
   "cell_type": "code",
   "execution_count": null,
   "metadata": {},
   "outputs": [],
   "source": [
    "# check if the codebooks are the same\n",
    "for cb1, cb2 in zip(model1.codebook.codebooks, model2.codebook.codebooks):\n",
    "    assert cb1.equal(cb2)\n",
    "\n",
    "for cb1, cb2 in zip(model1.codebook.codebooks_sum, model2.codebook.codebooks_sum):\n",
    "    assert cb1.equal(cb2)\n",
    "\n",
    "for cb1, cb2 in zip(model1.codebook.codebooks_cnt, model2.codebook.codebooks_cnt):\n",
    "    assert cb1.equal(cb2)"
   ]
  },
  {
   "cell_type": "code",
   "execution_count": null,
   "metadata": {},
   "outputs": [],
   "source": [
    "model1.student"
   ]
  },
  {
   "cell_type": "code",
   "execution_count": null,
   "metadata": {},
   "outputs": [],
   "source": [
    "cfg.encoder_layers"
   ]
  },
  {
   "cell_type": "code",
   "execution_count": 1,
   "metadata": {},
   "outputs": [],
   "source": [
    "import torch\n",
    "from codebook import Codebook"
   ]
  },
  {
   "cell_type": "code",
   "execution_count": 2,
   "metadata": {},
   "outputs": [],
   "source": [
    "cb = Codebook(10, 100, 1)"
   ]
  },
  {
   "cell_type": "code",
   "execution_count": 5,
   "metadata": {},
   "outputs": [],
   "source": [
    "cb.accumulate_codewords_for_update(0, torch.randn(50, 10).to('cuda'), torch.randint(0, 10, (50,)).to('cuda'))"
   ]
  },
  {
   "cell_type": "code",
   "execution_count": 6,
   "metadata": {},
   "outputs": [
    {
     "name": "stdout",
     "output_type": "stream",
     "text": [
      "torch.Size([50, 10])\n",
      "torch.Size([50])\n"
     ]
    }
   ],
   "source": [
    "print(cb.accumulated_x[0].shape)\n",
    "print(cb.accumulated_closest_codewords[0].shape)"
   ]
  },
  {
   "cell_type": "code",
   "execution_count": 7,
   "metadata": {},
   "outputs": [
    {
     "name": "stdout",
     "output_type": "stream",
     "text": [
      "torch.Size([50, 100])\n"
     ]
    }
   ],
   "source": [
    "cb.update_codewords()"
   ]
  },
  {
   "cell_type": "code",
   "execution_count": null,
   "metadata": {},
   "outputs": [],
   "source": []
  }
 ],
 "metadata": {
  "kernelspec": {
   "display_name": "base",
   "language": "python",
   "name": "python3"
  },
  "language_info": {
   "codemirror_mode": {
    "name": "ipython",
    "version": 3
   },
   "file_extension": ".py",
   "mimetype": "text/x-python",
   "name": "python",
   "nbconvert_exporter": "python",
   "pygments_lexer": "ipython3",
   "version": "3.10.13"
  }
 },
 "nbformat": 4,
 "nbformat_minor": 2
}
